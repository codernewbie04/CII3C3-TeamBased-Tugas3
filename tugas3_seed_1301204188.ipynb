{
  "cells": [
    {
      "cell_type": "code",
      "execution_count": null,
      "metadata": {
        "colab": {
          "base_uri": "https://localhost:8080/"
        },
        "id": "mri0W-Avyb2-",
        "outputId": "9f715734-ca86-47e0-c3c5-74945bf84a5d"
      },
      "outputs": [
        {
          "output_type": "stream",
          "name": "stdout",
          "text": [
            "Looking in indexes: https://pypi.org/simple, https://us-python.pkg.dev/colab-wheels/public/simple/\n",
            "Requirement already satisfied: pandas in /usr/local/lib/python3.8/dist-packages (1.3.5)\n",
            "Requirement already satisfied: numpy>=1.17.3 in /usr/local/lib/python3.8/dist-packages (from pandas) (1.21.6)\n",
            "Requirement already satisfied: pytz>=2017.3 in /usr/local/lib/python3.8/dist-packages (from pandas) (2022.6)\n",
            "Requirement already satisfied: python-dateutil>=2.7.3 in /usr/local/lib/python3.8/dist-packages (from pandas) (2.8.2)\n",
            "Requirement already satisfied: six>=1.5 in /usr/local/lib/python3.8/dist-packages (from python-dateutil>=2.7.3->pandas) (1.15.0)\n",
            "Looking in indexes: https://pypi.org/simple, https://us-python.pkg.dev/colab-wheels/public/simple/\n",
            "Requirement already satisfied: scikit-learn in /usr/local/lib/python3.8/dist-packages (1.0.2)\n",
            "Requirement already satisfied: joblib>=0.11 in /usr/local/lib/python3.8/dist-packages (from scikit-learn) (1.2.0)\n",
            "Requirement already satisfied: numpy>=1.14.6 in /usr/local/lib/python3.8/dist-packages (from scikit-learn) (1.21.6)\n",
            "Requirement already satisfied: threadpoolctl>=2.0.0 in /usr/local/lib/python3.8/dist-packages (from scikit-learn) (3.1.0)\n",
            "Requirement already satisfied: scipy>=1.1.0 in /usr/local/lib/python3.8/dist-packages (from scikit-learn) (1.7.3)\n"
          ]
        }
      ],
      "source": [
        "!pip install pandas\n",
        "!pip install scikit-learn"
      ]
    },
    {
      "cell_type": "code",
      "execution_count": null,
      "metadata": {
        "colab": {
          "base_uri": "https://localhost:8080/"
        },
        "id": "3SNWOt5HzBV8",
        "outputId": "0bf09264-5989-4cf4-bbcd-47726020d3b3"
      },
      "outputs": [
        {
          "output_type": "stream",
          "name": "stdout",
          "text": [
            "--2022-12-19 03:18:41--  https://raw.githubusercontent.com/codernewbie04/CII3C3-TeamBased-Tugas3/main/seeds_dataset.csv?raw=true\n",
            "Resolving raw.githubusercontent.com (raw.githubusercontent.com)... 185.199.108.133, 185.199.109.133, 185.199.110.133, ...\n",
            "Connecting to raw.githubusercontent.com (raw.githubusercontent.com)|185.199.108.133|:443... connected.\n",
            "HTTP request sent, awaiting response... 200 OK\n",
            "Length: 9368 (9.1K) [text/plain]\n",
            "Saving to: ‘/content/seeds_dataset.csv’\n",
            "\n",
            "\r          /content/   0%[                    ]       0  --.-KB/s               \r/content/seeds_data 100%[===================>]   9.15K  --.-KB/s    in 0s      \n",
            "\n",
            "2022-12-19 03:18:41 (58.2 MB/s) - ‘/content/seeds_dataset.csv’ saved [9368/9368]\n",
            "\n"
          ]
        }
      ],
      "source": [
        "!wget --no-check-certificate \\\n",
        "  https://raw.githubusercontent.com/codernewbie04/CII3C3-TeamBased-Tugas3/main/seeds_dataset.csv?raw=true \\\n",
        "  -O /content/seeds_dataset.csv"
      ]
    },
    {
      "cell_type": "code",
      "execution_count": null,
      "metadata": {
        "id": "nx_wd4KIyb3C"
      },
      "outputs": [],
      "source": [
        "## Isi nama dan NIM seluruh anggota kelompok di sini\n",
        "#   Nama    NIM\n",
        "#   Akmal Muhamad Firdaus     1301204188\n",
        "#   Muhammad Raffif Haziq     1301204146\n",
        "#   Fadil Faithul Azhan       1301200213\n",
        "#   Raihan Chaira             1301204324\n",
        "#   \n",
        "#   "
      ]
    },
    {
      "cell_type": "code",
      "execution_count": null,
      "metadata": {
        "id": "PqKq-Odgyb3D"
      },
      "outputs": [],
      "source": [
        "import numpy as np\n",
        "import pandas as pd\n",
        "from sklearn.model_selection import train_test_split\n",
        "from sklearn import tree\n",
        "from sklearn.ensemble import VotingClassifier"
      ]
    },
    {
      "cell_type": "markdown",
      "metadata": {
        "id": "yT6smgf_yb3E"
      },
      "source": [
        "# Load Dataset\n",
        "Inisialisasi variable, masukan NIM di sini untuk random state.\n",
        "\n",
        "Gunakan NIM salah satu anggota kelompok.\n",
        "\n"
      ]
    },
    {
      "cell_type": "code",
      "execution_count": null,
      "metadata": {
        "id": "XaXnVzFAyb3G"
      },
      "outputs": [],
      "source": [
        "filepath = \"./seeds_dataset.csv\"\n",
        "\n",
        "# Isi nim anda di sini\n",
        "nim = 1301204188 "
      ]
    },
    {
      "cell_type": "markdown",
      "metadata": {
        "id": "7JykrQ7qyb3H"
      },
      "source": [
        "Load dataset, cek konten data\n",
        "\n",
        "Target kelas: **Category** "
      ]
    },
    {
      "cell_type": "code",
      "execution_count": null,
      "metadata": {
        "colab": {
          "base_uri": "https://localhost:8080/",
          "height": 427
        },
        "id": "KTDZN3aEyb3H",
        "outputId": "36491364-b9ba-4628-cb2f-728ebe6649d9"
      },
      "outputs": [
        {
          "output_type": "execute_result",
          "data": {
            "text/plain": [
              "      Area  Perimeter  Compactness  Kernel_len  Kernel_width  Assymetry  \\\n",
              "122  16.17      15.38       0.8588       5.762         3.387      4.286   \n",
              "50   14.43      14.40       0.8751       5.585         3.272      3.975   \n",
              "29   13.45      14.02       0.8604       5.516         3.065      3.531   \n",
              "128  20.16      17.03       0.8735       6.513         3.773      1.910   \n",
              "59   12.11      13.47       0.8392       5.159         3.032      1.502   \n",
              "185  11.56      13.31       0.8198       5.363         2.683      4.062   \n",
              "80   16.53      15.34       0.8823       5.875         3.467      5.532   \n",
              "85   18.27      16.09       0.8870       6.173         3.651      2.443   \n",
              "133  16.16      15.33       0.8644       5.845         3.395      4.266   \n",
              "155  11.19      13.05       0.8253       5.250         2.675      5.813   \n",
              "\n",
              "     Groove_len  Category  \n",
              "122       5.703         2  \n",
              "50        5.144         1  \n",
              "29        5.097         1  \n",
              "128       6.185         2  \n",
              "59        4.519         1  \n",
              "185       5.182         3  \n",
              "80        5.880         2  \n",
              "85        6.197         2  \n",
              "133       5.795         2  \n",
              "155       5.219         3  "
            ],
            "text/html": [
              "\n",
              "  <div id=\"df-1e59eab4-5098-434c-a54e-62e12d0c698b\">\n",
              "    <div class=\"colab-df-container\">\n",
              "      <div>\n",
              "<style scoped>\n",
              "    .dataframe tbody tr th:only-of-type {\n",
              "        vertical-align: middle;\n",
              "    }\n",
              "\n",
              "    .dataframe tbody tr th {\n",
              "        vertical-align: top;\n",
              "    }\n",
              "\n",
              "    .dataframe thead th {\n",
              "        text-align: right;\n",
              "    }\n",
              "</style>\n",
              "<table border=\"1\" class=\"dataframe\">\n",
              "  <thead>\n",
              "    <tr style=\"text-align: right;\">\n",
              "      <th></th>\n",
              "      <th>Area</th>\n",
              "      <th>Perimeter</th>\n",
              "      <th>Compactness</th>\n",
              "      <th>Kernel_len</th>\n",
              "      <th>Kernel_width</th>\n",
              "      <th>Assymetry</th>\n",
              "      <th>Groove_len</th>\n",
              "      <th>Category</th>\n",
              "    </tr>\n",
              "  </thead>\n",
              "  <tbody>\n",
              "    <tr>\n",
              "      <th>122</th>\n",
              "      <td>16.17</td>\n",
              "      <td>15.38</td>\n",
              "      <td>0.8588</td>\n",
              "      <td>5.762</td>\n",
              "      <td>3.387</td>\n",
              "      <td>4.286</td>\n",
              "      <td>5.703</td>\n",
              "      <td>2</td>\n",
              "    </tr>\n",
              "    <tr>\n",
              "      <th>50</th>\n",
              "      <td>14.43</td>\n",
              "      <td>14.40</td>\n",
              "      <td>0.8751</td>\n",
              "      <td>5.585</td>\n",
              "      <td>3.272</td>\n",
              "      <td>3.975</td>\n",
              "      <td>5.144</td>\n",
              "      <td>1</td>\n",
              "    </tr>\n",
              "    <tr>\n",
              "      <th>29</th>\n",
              "      <td>13.45</td>\n",
              "      <td>14.02</td>\n",
              "      <td>0.8604</td>\n",
              "      <td>5.516</td>\n",
              "      <td>3.065</td>\n",
              "      <td>3.531</td>\n",
              "      <td>5.097</td>\n",
              "      <td>1</td>\n",
              "    </tr>\n",
              "    <tr>\n",
              "      <th>128</th>\n",
              "      <td>20.16</td>\n",
              "      <td>17.03</td>\n",
              "      <td>0.8735</td>\n",
              "      <td>6.513</td>\n",
              "      <td>3.773</td>\n",
              "      <td>1.910</td>\n",
              "      <td>6.185</td>\n",
              "      <td>2</td>\n",
              "    </tr>\n",
              "    <tr>\n",
              "      <th>59</th>\n",
              "      <td>12.11</td>\n",
              "      <td>13.47</td>\n",
              "      <td>0.8392</td>\n",
              "      <td>5.159</td>\n",
              "      <td>3.032</td>\n",
              "      <td>1.502</td>\n",
              "      <td>4.519</td>\n",
              "      <td>1</td>\n",
              "    </tr>\n",
              "    <tr>\n",
              "      <th>185</th>\n",
              "      <td>11.56</td>\n",
              "      <td>13.31</td>\n",
              "      <td>0.8198</td>\n",
              "      <td>5.363</td>\n",
              "      <td>2.683</td>\n",
              "      <td>4.062</td>\n",
              "      <td>5.182</td>\n",
              "      <td>3</td>\n",
              "    </tr>\n",
              "    <tr>\n",
              "      <th>80</th>\n",
              "      <td>16.53</td>\n",
              "      <td>15.34</td>\n",
              "      <td>0.8823</td>\n",
              "      <td>5.875</td>\n",
              "      <td>3.467</td>\n",
              "      <td>5.532</td>\n",
              "      <td>5.880</td>\n",
              "      <td>2</td>\n",
              "    </tr>\n",
              "    <tr>\n",
              "      <th>85</th>\n",
              "      <td>18.27</td>\n",
              "      <td>16.09</td>\n",
              "      <td>0.8870</td>\n",
              "      <td>6.173</td>\n",
              "      <td>3.651</td>\n",
              "      <td>2.443</td>\n",
              "      <td>6.197</td>\n",
              "      <td>2</td>\n",
              "    </tr>\n",
              "    <tr>\n",
              "      <th>133</th>\n",
              "      <td>16.16</td>\n",
              "      <td>15.33</td>\n",
              "      <td>0.8644</td>\n",
              "      <td>5.845</td>\n",
              "      <td>3.395</td>\n",
              "      <td>4.266</td>\n",
              "      <td>5.795</td>\n",
              "      <td>2</td>\n",
              "    </tr>\n",
              "    <tr>\n",
              "      <th>155</th>\n",
              "      <td>11.19</td>\n",
              "      <td>13.05</td>\n",
              "      <td>0.8253</td>\n",
              "      <td>5.250</td>\n",
              "      <td>2.675</td>\n",
              "      <td>5.813</td>\n",
              "      <td>5.219</td>\n",
              "      <td>3</td>\n",
              "    </tr>\n",
              "  </tbody>\n",
              "</table>\n",
              "</div>\n",
              "      <button class=\"colab-df-convert\" onclick=\"convertToInteractive('df-1e59eab4-5098-434c-a54e-62e12d0c698b')\"\n",
              "              title=\"Convert this dataframe to an interactive table.\"\n",
              "              style=\"display:none;\">\n",
              "        \n",
              "  <svg xmlns=\"http://www.w3.org/2000/svg\" height=\"24px\"viewBox=\"0 0 24 24\"\n",
              "       width=\"24px\">\n",
              "    <path d=\"M0 0h24v24H0V0z\" fill=\"none\"/>\n",
              "    <path d=\"M18.56 5.44l.94 2.06.94-2.06 2.06-.94-2.06-.94-.94-2.06-.94 2.06-2.06.94zm-11 1L8.5 8.5l.94-2.06 2.06-.94-2.06-.94L8.5 2.5l-.94 2.06-2.06.94zm10 10l.94 2.06.94-2.06 2.06-.94-2.06-.94-.94-2.06-.94 2.06-2.06.94z\"/><path d=\"M17.41 7.96l-1.37-1.37c-.4-.4-.92-.59-1.43-.59-.52 0-1.04.2-1.43.59L10.3 9.45l-7.72 7.72c-.78.78-.78 2.05 0 2.83L4 21.41c.39.39.9.59 1.41.59.51 0 1.02-.2 1.41-.59l7.78-7.78 2.81-2.81c.8-.78.8-2.07 0-2.86zM5.41 20L4 18.59l7.72-7.72 1.47 1.35L5.41 20z\"/>\n",
              "  </svg>\n",
              "      </button>\n",
              "      \n",
              "  <style>\n",
              "    .colab-df-container {\n",
              "      display:flex;\n",
              "      flex-wrap:wrap;\n",
              "      gap: 12px;\n",
              "    }\n",
              "\n",
              "    .colab-df-convert {\n",
              "      background-color: #E8F0FE;\n",
              "      border: none;\n",
              "      border-radius: 50%;\n",
              "      cursor: pointer;\n",
              "      display: none;\n",
              "      fill: #1967D2;\n",
              "      height: 32px;\n",
              "      padding: 0 0 0 0;\n",
              "      width: 32px;\n",
              "    }\n",
              "\n",
              "    .colab-df-convert:hover {\n",
              "      background-color: #E2EBFA;\n",
              "      box-shadow: 0px 1px 2px rgba(60, 64, 67, 0.3), 0px 1px 3px 1px rgba(60, 64, 67, 0.15);\n",
              "      fill: #174EA6;\n",
              "    }\n",
              "\n",
              "    [theme=dark] .colab-df-convert {\n",
              "      background-color: #3B4455;\n",
              "      fill: #D2E3FC;\n",
              "    }\n",
              "\n",
              "    [theme=dark] .colab-df-convert:hover {\n",
              "      background-color: #434B5C;\n",
              "      box-shadow: 0px 1px 3px 1px rgba(0, 0, 0, 0.15);\n",
              "      filter: drop-shadow(0px 1px 2px rgba(0, 0, 0, 0.3));\n",
              "      fill: #FFFFFF;\n",
              "    }\n",
              "  </style>\n",
              "\n",
              "      <script>\n",
              "        const buttonEl =\n",
              "          document.querySelector('#df-1e59eab4-5098-434c-a54e-62e12d0c698b button.colab-df-convert');\n",
              "        buttonEl.style.display =\n",
              "          google.colab.kernel.accessAllowed ? 'block' : 'none';\n",
              "\n",
              "        async function convertToInteractive(key) {\n",
              "          const element = document.querySelector('#df-1e59eab4-5098-434c-a54e-62e12d0c698b');\n",
              "          const dataTable =\n",
              "            await google.colab.kernel.invokeFunction('convertToInteractive',\n",
              "                                                     [key], {});\n",
              "          if (!dataTable) return;\n",
              "\n",
              "          const docLinkHtml = 'Like what you see? Visit the ' +\n",
              "            '<a target=\"_blank\" href=https://colab.research.google.com/notebooks/data_table.ipynb>data table notebook</a>'\n",
              "            + ' to learn more about interactive tables.';\n",
              "          element.innerHTML = '';\n",
              "          dataTable['output_type'] = 'display_data';\n",
              "          await google.colab.output.renderOutput(dataTable, element);\n",
              "          const docLink = document.createElement('div');\n",
              "          docLink.innerHTML = docLinkHtml;\n",
              "          element.appendChild(docLink);\n",
              "        }\n",
              "      </script>\n",
              "    </div>\n",
              "  </div>\n",
              "  "
            ]
          },
          "metadata": {},
          "execution_count": 171
        }
      ],
      "source": [
        "df = pd.read_csv(filepath, sep=\"\\t\")\n",
        "df.sample(10, random_state=nim)"
      ]
    },
    {
      "cell_type": "markdown",
      "metadata": {
        "id": "y-2EKxiJyb3I"
      },
      "source": [
        "Training/test split **60/40**"
      ]
    },
    {
      "cell_type": "code",
      "execution_count": null,
      "metadata": {
        "colab": {
          "base_uri": "https://localhost:8080/"
        },
        "id": "kMd3wdUfyb3I",
        "outputId": "62fc218c-be8e-462e-a8da-c95e801d4f89"
      },
      "outputs": [
        {
          "output_type": "execute_result",
          "data": {
            "text/plain": [
              "(126, 84)"
            ]
          },
          "metadata": {},
          "execution_count": 172
        }
      ],
      "source": [
        "# X: semua kolom, Y: kolom terakhir (category)\n",
        "x = df.iloc[:, 0:-1]\n",
        "y = df.iloc[:, -1]\n",
        "x_train, x_test, y_train, y_test = train_test_split(x, y, train_size=0.60, random_state=nim)\n",
        "\n",
        "# We perform bootstrap on the train data\n",
        "# Keep test data for final accuracy testing\n",
        "len(x_train), len(x_test)"
      ]
    },
    {
      "cell_type": "markdown",
      "metadata": {
        "id": "gtewzEgfyb3J"
      },
      "source": [
        "# Random Forest\n",
        "Build a Random Forest, consisting of 20 Decision Tree classifer, with the following steps:\n",
        "\n",
        "1. Prepare Bootstrap data (choose randomly from the *training data*, use sampling with replacement)\n",
        "2. Choose 2-4 random features/atributes for each tree\n",
        "3. Build Decision Tree classifier using step (1) and (2)\n",
        "4. Calculate OOB score within the tree only\n",
        "\n",
        "**NOTE**\n",
        "This whole exercise has been simplified.\n",
        "- Tree can be created using a library, therefore you may not be able control the feature selection on node level\n",
        "- Random features are only selected in the beginning of each tree.\n",
        "- OOB score is only calculated within its own tree instead.\n",
        "- Typically Random Forest don't use train/test split and can be validated using OOB error. We simplify this to make it easier to test.\n",
        "- You are not allowed to use a Random Forest or Bagging library.\n"
      ]
    },
    {
      "cell_type": "code",
      "execution_count": null,
      "metadata": {
        "id": "OjPRFkeG2Apm"
      },
      "outputs": [],
      "source": [
        "size = len(x_train.index.tolist())\n",
        "rowsList= [i for i in range(size)]\n",
        "columnList = x_train.columns.tolist()\n",
        "import random"
      ]
    },
    {
      "cell_type": "code",
      "execution_count": null,
      "metadata": {
        "colab": {
          "base_uri": "https://localhost:8080/"
        },
        "id": "FCvkqK0vyb3K",
        "outputId": "7e23e6ad-438b-400e-e395-d3e42baf61ad"
      },
      "outputs": [
        {
          "output_type": "stream",
          "name": "stdout",
          "text": [
            "Selected atribute: ['Groove_len', 'Perimeter']\n",
            "OOB_Error: 0.15217391304347827\n",
            "OOB: 0.8478260869565217\n",
            "nr oob 46\n",
            "===============Separator============\n",
            "\n",
            "Selected atribute: ['Perimeter', 'Groove_len', 'Compactness']\n",
            "OOB_Error: 0.15217391304347827\n",
            "OOB: 0.8478260869565217\n",
            "nr oob 46\n",
            "===============Separator============\n",
            "\n",
            "Selected atribute: ['Assymetry', 'Groove_len']\n",
            "OOB_Error: 0.1590909090909091\n",
            "OOB: 0.8409090909090909\n",
            "nr oob 44\n",
            "===============Separator============\n",
            "\n",
            "Selected atribute: ['Groove_len', 'Area', 'Compactness']\n",
            "OOB_Error: 0.17777777777777778\n",
            "OOB: 0.8222222222222222\n",
            "nr oob 45\n",
            "===============Separator============\n",
            "\n",
            "Selected atribute: ['Kernel_len', 'Area']\n",
            "OOB_Error: 0.15217391304347827\n",
            "OOB: 0.8478260869565217\n",
            "nr oob 46\n",
            "===============Separator============\n",
            "\n",
            "Selected atribute: ['Kernel_len', 'Area']\n",
            "OOB_Error: 0.11363636363636363\n",
            "OOB: 0.8863636363636364\n",
            "nr oob 44\n",
            "===============Separator============\n",
            "\n",
            "Selected atribute: ['Area', 'Perimeter']\n",
            "OOB_Error: 0.13953488372093023\n",
            "OOB: 0.8604651162790697\n",
            "nr oob 43\n",
            "===============Separator============\n",
            "\n",
            "Selected atribute: ['Area', 'Perimeter']\n",
            "OOB_Error: 0.06976744186046512\n",
            "OOB: 0.9302325581395349\n",
            "nr oob 43\n",
            "===============Separator============\n",
            "\n",
            "Selected atribute: ['Kernel_len', 'Groove_len']\n",
            "OOB_Error: 0.16279069767441862\n",
            "OOB: 0.8372093023255813\n",
            "nr oob 43\n",
            "===============Separator============\n",
            "\n",
            "Selected atribute: ['Kernel_len', 'Area', 'Groove_len']\n",
            "OOB_Error: 0.19047619047619047\n",
            "OOB: 0.8095238095238095\n",
            "nr oob 42\n",
            "===============Separator============\n",
            "\n",
            "Selected atribute: ['Kernel_len', 'Area']\n",
            "OOB_Error: 0.15555555555555556\n",
            "OOB: 0.8444444444444444\n",
            "nr oob 45\n",
            "===============Separator============\n",
            "\n",
            "Selected atribute: ['Perimeter', 'Area']\n",
            "OOB_Error: 0.08888888888888889\n",
            "OOB: 0.9111111111111111\n",
            "nr oob 45\n",
            "===============Separator============\n",
            "\n",
            "Selected atribute: ['Groove_len', 'Compactness', 'Kernel_width']\n",
            "OOB_Error: 0.2\n",
            "OOB: 0.8\n",
            "nr oob 45\n",
            "===============Separator============\n",
            "\n",
            "Selected atribute: ['Kernel_len', 'Perimeter']\n",
            "OOB_Error: 0.13043478260869565\n",
            "OOB: 0.8695652173913043\n",
            "nr oob 46\n",
            "===============Separator============\n",
            "\n",
            "Selected atribute: ['Area', 'Kernel_width', 'Compactness']\n",
            "OOB_Error: 0.08695652173913043\n",
            "OOB: 0.9130434782608696\n",
            "nr oob 46\n",
            "===============Separator============\n",
            "\n",
            "Selected atribute: ['Compactness', 'Kernel_len', 'Assymetry']\n",
            "OOB_Error: 0.21739130434782608\n",
            "OOB: 0.782608695652174\n",
            "nr oob 46\n",
            "===============Separator============\n",
            "\n",
            "Selected atribute: ['Kernel_width', 'Area']\n",
            "OOB_Error: 0.14285714285714285\n",
            "OOB: 0.8571428571428572\n",
            "nr oob 42\n",
            "===============Separator============\n",
            "\n",
            "Selected atribute: ['Perimeter', 'Kernel_len', 'Groove_len']\n",
            "OOB_Error: 0.06818181818181818\n",
            "OOB: 0.9318181818181819\n",
            "nr oob 44\n",
            "===============Separator============\n",
            "\n",
            "Selected atribute: ['Area', 'Kernel_len', 'Perimeter']\n",
            "OOB_Error: 0.16279069767441862\n",
            "OOB: 0.8372093023255813\n",
            "nr oob 43\n",
            "===============Separator============\n",
            "\n",
            "Selected atribute: ['Perimeter', 'Assymetry']\n",
            "OOB_Error: 0.13043478260869565\n",
            "OOB: 0.8695652173913043\n",
            "nr oob 46\n",
            "===============Separator============\n",
            "\n"
          ]
        }
      ],
      "source": [
        "np.random.seed(nim)\n",
        "n_tree = 20\n",
        "oob_scores = 0\n",
        "forest = []\n",
        "bootstrap_columns = []\n",
        "for i in range(n_tree):\n",
        "    # 1. Bootstrapping\n",
        "    # select random rows\n",
        "    rows = random.sample(rowsList, np.random.randint(80, 85))\n",
        "    x_bootstrap = x_train.iloc[rows]\n",
        "    y_bootstrap = y_train.iloc[rows]\n",
        "\n",
        "    # Out of Bag data\n",
        "    non_selected_rows = [i for i in rowsList if i not in rows]\n",
        "    x_oob = x_train.iloc[non_selected_rows]\n",
        "    y_oob = y_train.iloc[non_selected_rows]\n",
        "\n",
        "    # 2. Select random features (make sure to keep track the selected columns)\n",
        "    # Check for any repeated combinations\n",
        "    feature_taken = np.random.randint(2, 4)\n",
        "    cols = random.sample(columnList,feature_taken)\n",
        "    print(\"Selected atribute:\",cols)\n",
        "    bootstrap_columns.append(cols)\n",
        "\n",
        "    # filter based on the selected columns\n",
        "    x_bootstrap = x_bootstrap[cols]\n",
        "\n",
        "    # 3. Build decision tree\n",
        "    # Let it grow, no pruning\n",
        "    tree_model = tree.DecisionTreeClassifier(criterion=\"gini\", max_depth=len(x_bootstrap.columns)+1)\n",
        "    tree_model = tree_model.fit(x_bootstrap, y_bootstrap)\n",
        "\n",
        "    # Add it to the forest\n",
        "    forest.append(tree_model)\n",
        "  \n",
        "    # 4. Calculate oob score only within its own tree\n",
        "    mis_label = 0\n",
        "    pred = tree_model.predict(x_oob[cols])\n",
        "    for j, k in enumerate(pred):\n",
        "      if k != y_oob.iloc[j]:\n",
        "          mis_label += 1\n",
        "    oob_error = mis_label / len(x_oob)\n",
        "    print(\"OOB_Error:\",oob_error)\n",
        "    print(\"OOB:\",1-oob_error)\n",
        "    print(\"nr oob\", len(non_selected_rows))\n",
        "    print(\"===============Separator============\")\n",
        "    print()\n",
        "    \n",
        "    \n",
        "\n"
      ]
    },
    {
      "cell_type": "code",
      "execution_count": null,
      "metadata": {
        "colab": {
          "base_uri": "https://localhost:8080/",
          "height": 631
        },
        "id": "Qvv0DsXL9Yne",
        "outputId": "6a702d6d-6d71-40f9-caf3-cb2ef144bb95"
      },
      "outputs": [
        {
          "output_type": "execute_result",
          "data": {
            "text/plain": [
              "[Text(0.5769230769230769, 0.875, 'X[0] <= 15.09\\ngini = 0.665\\nsamples = 80\\nvalue = [25, 26, 29]'),\n",
              " Text(0.3076923076923077, 0.625, 'X[0] <= 14.005\\ngini = 0.514\\nsamples = 54\\nvalue = [24, 1, 29]'),\n",
              " Text(0.15384615384615385, 0.375, 'X[1] <= 3.752\\ngini = 0.251\\nsamples = 34\\nvalue = [5, 0, 29]'),\n",
              " Text(0.07692307692307693, 0.125, 'gini = 0.5\\nsamples = 10\\nvalue = [5, 0, 5]'),\n",
              " Text(0.23076923076923078, 0.125, 'gini = 0.0\\nsamples = 24\\nvalue = [0, 0, 24]'),\n",
              " Text(0.46153846153846156, 0.375, 'X[1] <= 3.332\\ngini = 0.095\\nsamples = 20\\nvalue = [19, 1, 0]'),\n",
              " Text(0.38461538461538464, 0.125, 'gini = 0.0\\nsamples = 17\\nvalue = [17, 0, 0]'),\n",
              " Text(0.5384615384615384, 0.125, 'gini = 0.444\\nsamples = 3\\nvalue = [2, 1, 0]'),\n",
              " Text(0.8461538461538461, 0.625, 'X[0] <= 15.47\\ngini = 0.074\\nsamples = 26\\nvalue = [1, 25, 0]'),\n",
              " Text(0.7692307692307693, 0.375, 'X[1] <= 3.296\\ngini = 0.5\\nsamples = 2\\nvalue = [1, 1, 0]'),\n",
              " Text(0.6923076923076923, 0.125, 'gini = 0.0\\nsamples = 1\\nvalue = [1, 0, 0]'),\n",
              " Text(0.8461538461538461, 0.125, 'gini = 0.0\\nsamples = 1\\nvalue = [0, 1, 0]'),\n",
              " Text(0.9230769230769231, 0.375, 'gini = 0.0\\nsamples = 24\\nvalue = [0, 24, 0]')]"
            ]
          },
          "metadata": {},
          "execution_count": 175
        },
        {
          "output_type": "display_data",
          "data": {
            "text/plain": [
              "<Figure size 432x288 with 1 Axes>"
            ],
            "image/png": "[encoded data removed]"
          },
          "metadata": {
            "needs_background": "light"
          }
        }
      ],
      "source": [
        "tree.plot_tree(tree_model)"
      ]
    },
    {
      "cell_type": "markdown",
      "metadata": {
        "id": "0cjMXkyxyb3L"
      },
      "source": [
        "# Prediction and Voting\n",
        "Run prediction on x_test data for each tree\n",
        "\n",
        "Also calculate accuracy per tree here"
      ]
    },
    {
      "cell_type": "code",
      "execution_count": null,
      "metadata": {
        "colab": {
          "base_uri": "https://localhost:8080/"
        },
        "id": "yeE5rTzEyb3L",
        "outputId": "be81c226-3cec-43a3-e335-e0d3464631d1"
      },
      "outputs": [
        {
          "output_type": "stream",
          "name": "stdout",
          "text": [
            "0.8928571428571429\n",
            "0.8095238095238095\n",
            "0.8333333333333334\n",
            "0.8452380952380952\n",
            "0.7976190476190477\n",
            "0.8333333333333334\n",
            "0.7976190476190477\n",
            "0.7976190476190477\n",
            "0.8928571428571429\n",
            "0.8928571428571429\n",
            "0.8452380952380952\n",
            "0.8333333333333334\n",
            "0.7738095238095238\n",
            "0.7976190476190477\n",
            "0.8452380952380952\n",
            "0.7619047619047619\n",
            "0.8333333333333334\n",
            "0.8571428571428571\n",
            "0.8690476190476191\n",
            "0.8571428571428571\n"
          ]
        }
      ],
      "source": [
        "all_preds = []\n",
        "all_acc = []\n",
        "for i, tree_model in enumerate(forest):\n",
        "    # Each tree has different column requirements\n",
        "    # Make sure you use the correct columns for each tree\n",
        "    x_test_filtered = x_test[bootstrap_columns[i]]\n",
        "\n",
        "    predictions = tree_model.predict(x_test_filtered)\n",
        "\n",
        "    # Might as well calculate accuracy per tree here...\n",
        "\n",
        "    acc =  np.sum(predictions == y_test) / len(predictions)\n",
        "    all_acc.append(acc)\n",
        "    print(acc)\n",
        "    # add it to all_preds for voting later\n",
        "    all_preds.append(predictions)\n",
        "\n",
        "all_preds = np.array(all_preds)\n"
      ]
    },
    {
      "cell_type": "code",
      "execution_count": null,
      "metadata": {
        "id": "rSaTH_YNOfoL"
      },
      "outputs": [],
      "source": []
    },
    {
      "cell_type": "markdown",
      "metadata": {
        "id": "M9cQ0MwPyb3M"
      },
      "source": [
        "### Perform voting on the predictions from the Random Forest"
      ]
    },
    {
      "cell_type": "code",
      "execution_count": null,
      "metadata": {
        "colab": {
          "base_uri": "https://localhost:8080/"
        },
        "id": "KNckvhrCyb3M",
        "outputId": "2bddc087-b34f-48f2-8fdc-0961ffd144fa"
      },
      "outputs": [
        {
          "output_type": "execute_result",
          "data": {
            "text/plain": [
              "0.8333333333333334"
            ]
          },
          "metadata": {},
          "execution_count": 177
        }
      ],
      "source": [
        "# Insert voting code here\n",
        "category1 = 0\n",
        "category2 = 0\n",
        "category3 = 0\n",
        "for i in range(len(all_preds)):\n",
        "  for j in range(len(all_preds[i])):\n",
        "        if all_preds[i][j] == 1 :\n",
        "            category1 += 1\n",
        "        elif all_preds[i][j] == 2 :\n",
        "            category2 += 1\n",
        "        else :\n",
        "            category3 += 1\n",
        "categories = [category1, category2, category3]\n",
        "max_value = max(categories)\n",
        "voted_predictions = categories.index(max_value) + 1\n",
        "\n",
        "# Calculate accuracy of Test data on the Forest\n",
        "acc = sum(all_acc) / len(all_acc)\n",
        "acc\n",
        "\n"
      ]
    },
    {
      "cell_type": "markdown",
      "metadata": {
        "id": "Uh387XX4yb3N"
      },
      "source": [
        "After you're done with all this, please check the excel file and put the answers for every column there."
      ]
    }
  ],
  "metadata": {
    "colab": {
      "provenance": []
    },
    "kernelspec": {
      "display_name": "Python 3.10.8 ('tugas3')",
      "language": "python",
      "name": "python3"
    },
    "language_info": {
      "codemirror_mode": {
        "name": "ipython",
        "version": 3
      },
      "file_extension": ".py",
      "mimetype": "text/x-python",
      "name": "python",
      "nbconvert_exporter": "python",
      "pygments_lexer": "ipython3",
      "version": "3.10.8"
    },
    "vscode": {
      "interpreter": {
        "hash": "486ee4d26de12a9ebc4c044e4309648e10037d9316726c9d112e2ad4a1fad8b4"
      }
    }
  },
  "nbformat": 4,
  "nbformat_minor": 0
}